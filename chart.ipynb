{
 "cells": [
  {
   "cell_type": "code",
   "execution_count": 4,
   "metadata": {},
   "outputs": [],
   "source": [
    "import matplotlib.pyplot as plt\n",
    "import numpy as np"
   ]
  },
  {
   "cell_type": "code",
   "execution_count": 25,
   "metadata": {},
   "outputs": [],
   "source": [
    "def sq_sum(xs):\n",
    "    return sum(map(lambda x: x**2, xs))\n",
    "\n",
    "def seq_err(xs):\n",
    "    n    = len(xs)\n",
    "    avg  = np.average(xs)\n",
    "    offs = map(lambda x: x - avg, xs)\n",
    "    \n",
    "    return np.sqrt(sq_sum(list(offs)) / (n * n - 1))"
   ]
  },
  {
   "cell_type": "code",
   "execution_count": 43,
   "metadata": {},
   "outputs": [],
   "source": [
    "def read_data(path):\n",
    "    out = []\n",
    "    \n",
    "    with open(path, 'r') as f:\n",
    "        for l in f:\n",
    "            if(len(l) < 2): continue # skip empty lines\n",
    "            formatted = l.replace(',', '.').rstrip('\\n')\n",
    "            out.append(float(formatted))\n",
    "            \n",
    "        f.close()\n",
    "    \n",
    "    return out"
   ]
  },
  {
   "cell_type": "code",
   "execution_count": 47,
   "metadata": {},
   "outputs": [
    {
     "data": {
      "image/png": "[encoded data removed]",
      "text/plain": [
       "<Figure size 432x288 with 1 Axes>"
      ]
     },
     "metadata": {
      "needs_background": "light"
     },
     "output_type": "display_data"
    }
   ],
   "source": [
    "# inp_len: 1080\n",
    "off      = read_data(\"./time-off.out\")   # [2.32, 2.29, 2.41, 2.27, 2.19, 2.28, 2.11, ...]\n",
    "on       = read_data(\"./time-on.out\")    # [2.07, 1.99, 2.19, 2.03, 2.24, 1.98, 1.99, ...]\n",
    "\n",
    "# inp_len: 8640\n",
    "off_2    = read_data(\"./time-off-2.out\") # [11.47, 11.69, 11.58, 11.05, 11.12, 10.89, 11.39, ...]\n",
    "on_2     = read_data(\"./time-on-2.out\")  # [8.98, 9.24, 9.07, 9.05, 8.76, 9.11, 9.17, ...]\n",
    "\n",
    "off_err  = seq_err(off); off_err_2 = seq_err(off_2) \n",
    "on_err   = seq_err(on) ; on_err_2  = seq_err(on_2)\n",
    "\n",
    "data_off = (np.average(off), np.average(off_2))\n",
    "data_on  = (np.average(on), np.average(on_2))\n",
    "ind      = np.arange(2)\n",
    "w        = 0.4\n",
    "\n",
    "plt.bar(ind - w/2, data_off, w, yerr=(off_err, off_err_2), color='gray', label=\"true (def.)\")\n",
    "plt.bar(ind + w/2, data_on, w, yerr=(on_err, on_err_2), color='orange', label=\"false\")\n",
    "\n",
    "plt.xticks(ind, (\"1080\", \"8640\"))\n",
    "plt.ylabel(\"czas [s]\")\n",
    "plt.xlabel(\"ilość zapytań\")\n",
    "plt.legend()\n",
    "\n",
    "plt.savefig(\"wyd-sync.jpg\")"
   ]
  },
  {
   "cell_type": "code",
   "execution_count": 46,
   "metadata": {},
   "outputs": [
    {
     "data": {
      "text/plain": [
       "[2.07,\n",
       " 1.99,\n",
       " 2.19,\n",
       " 2.03,\n",
       " 2.24,\n",
       " 1.98,\n",
       " 1.99,\n",
       " 2.06,\n",
       " 1.94,\n",
       " 2.06,\n",
       " 2.12,\n",
       " 1.97,\n",
       " 1.96,\n",
       " 2.16,\n",
       " 2.04,\n",
       " 2.09,\n",
       " 1.96,\n",
       " 1.92,\n",
       " 1.98,\n",
       " 1.96,\n",
       " 1.96,\n",
       " 1.95,\n",
       " 1.98,\n",
       " 2.14,\n",
       " 2.29,\n",
       " 2.05,\n",
       " 2.1,\n",
       " 2.16,\n",
       " 2.13,\n",
       " 2.01,\n",
       " 2.0,\n",
       " 1.93,\n",
       " 2.04,\n",
       " 1.94,\n",
       " 1.98,\n",
       " 2.0,\n",
       " 2.06,\n",
       " 1.95,\n",
       " 1.96,\n",
       " 2.01,\n",
       " 2.01,\n",
       " 1.99,\n",
       " 2.05,\n",
       " 2.09,\n",
       " 2.05,\n",
       " 1.96,\n",
       " 2.0,\n",
       " 2.06,\n",
       " 2.11,\n",
       " 2.03]"
      ]
     },
     "execution_count": 46,
     "metadata": {},
     "output_type": "execute_result"
    }
   ],
   "source": [
    "read_data(\"./time-on.out\")"
   ]
  }
 ],
 "metadata": {
  "kernelspec": {
   "display_name": "Python 3",
   "language": "python",
   "name": "python3"
  },
  "language_info": {
   "codemirror_mode": {
    "name": "ipython",
    "version": 3
   },
   "file_extension": ".py",
   "mimetype": "text/x-python",
   "name": "python",
   "nbconvert_exporter": "python",
   "pygments_lexer": "ipython3",
   "version": "3.8.5"
  }
 },
 "nbformat": 4,
 "nbformat_minor": 4
}
